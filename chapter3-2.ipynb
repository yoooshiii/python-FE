{
 "cells": [
  {
   "cell_type": "markdown",
   "metadata": {},
   "source": [
    "# アルゴリズム編"
   ]
  },
  {
   "cell_type": "markdown",
   "metadata": {},
   "source": [
    "## 探索アルゴリム 3つ"
   ]
  },
  {
   "cell_type": "code",
   "execution_count": 33,
   "metadata": {},
   "outputs": [],
   "source": [
    "##　線形探索\n",
    "def search(data,target):\n",
    "    for i in range(len(data)): \n",
    "        if data[i] == target:\n",
    "            return i "
   ]
  },
  {
   "cell_type": "code",
   "execution_count": 34,
   "metadata": {},
   "outputs": [
    {
     "name": "stdout",
     "output_type": "stream",
     "text": [
      "要素番号 6 にデータ 7 を見つけました．\n"
     ]
    }
   ],
   "source": [
    "## 線形探索 :実行\n",
    "data = [1,2,3,4,5,6,7,8,9]\n",
    "target= 7\n",
    "print('要素番号 {} にデータ {} を見つけました．'.format(search(data,target),target))"
   ]
  },
  {
   "cell_type": "markdown",
   "metadata": {},
   "source": [
    "片っ端から順に"
   ]
  },
  {
   "cell_type": "code",
   "execution_count": 53,
   "metadata": {},
   "outputs": [
    {
     "name": "stdout",
     "output_type": "stream",
     "text": [
      "4\n"
     ]
    }
   ],
   "source": [
    "s=0\n",
    "e=9\n",
    "i =(s + e ) // 2\n",
    "print(i)"
   ]
  },
  {
   "cell_type": "markdown",
   "metadata": {},
   "source": [
    "//は整数部分のみを受け取る"
   ]
  },
  {
   "cell_type": "code",
   "execution_count": 49,
   "metadata": {},
   "outputs": [],
   "source": [
    "## 2分探索\n",
    "def search(data,target):\n",
    "    start, end = 0,len(data)\n",
    "    while start <= end:\n",
    "        i =(start + end ) // 2\n",
    "        if data[i] == target:\n",
    "            return i \n",
    "        elif data[i] < target:\n",
    "            start = i + 1\n",
    "        else:\n",
    "            end = i - 1\n",
    "\n",
    "    return -1"
   ]
  },
  {
   "cell_type": "code",
   "execution_count": 51,
   "metadata": {},
   "outputs": [
    {
     "name": "stdout",
     "output_type": "stream",
     "text": [
      "要素番号 2 を見つけました．\n"
     ]
    }
   ],
   "source": [
    "##2分探索:実行\n",
    "data = [1,2,3,4,5,6,7,8,9]\n",
    "target= 3\n",
    "print('要素番号 {} を見つけました．'.format(search(data,target)))"
   ]
  },
  {
   "cell_type": "markdown",
   "metadata": {},
   "source": [
    "2分探索は配列が整列していることを利用して，\n",
    "探索する数を半分ずつに減らしていくことで，効率良く数を探索することができます．\n"
   ]
  },
  {
   "cell_type": "code",
   "execution_count": 10,
   "metadata": {},
   "outputs": [],
   "source": [
    "## ハッシュ表探索\n"
   ]
  },
  {
   "cell_type": "markdown",
   "metadata": {},
   "source": [
    "## 整列アルゴリズム 7つ"
   ]
  },
  {
   "cell_type": "code",
   "execution_count": 11,
   "metadata": {},
   "outputs": [],
   "source": [
    "##バブルソート"
   ]
  },
  {
   "cell_type": "code",
   "execution_count": 12,
   "metadata": {},
   "outputs": [],
   "source": [
    "##挿入ソート"
   ]
  },
  {
   "cell_type": "code",
   "execution_count": 13,
   "metadata": {},
   "outputs": [],
   "source": [
    "##選択ソート"
   ]
  },
  {
   "cell_type": "code",
   "execution_count": 14,
   "metadata": {},
   "outputs": [],
   "source": [
    "##シェルソート"
   ]
  },
  {
   "cell_type": "code",
   "execution_count": 15,
   "metadata": {},
   "outputs": [],
   "source": [
    "##ヒープソート"
   ]
  },
  {
   "cell_type": "code",
   "execution_count": 16,
   "metadata": {},
   "outputs": [],
   "source": [
    "##クイックソート"
   ]
  },
  {
   "cell_type": "code",
   "execution_count": 17,
   "metadata": {},
   "outputs": [],
   "source": [
    "##マージソート"
   ]
  },
  {
   "cell_type": "markdown",
   "metadata": {},
   "source": [
    "# そのほか "
   ]
  },
  {
   "cell_type": "markdown",
   "metadata": {},
   "source": [
    "参考までに，，，文字列処理のアルゴリズムにはBM法 ボイヤ・ムーア法などが存在する"
   ]
  },
  {
   "cell_type": "code",
   "execution_count": null,
   "metadata": {},
   "outputs": [],
   "source": []
  }
 ],
 "metadata": {
  "kernelspec": {
   "display_name": "Python 3",
   "language": "python",
   "name": "python3"
  },
  "language_info": {
   "codemirror_mode": {
    "name": "ipython",
    "version": 3
   },
   "file_extension": ".py",
   "mimetype": "text/x-python",
   "name": "python",
   "nbconvert_exporter": "python",
   "pygments_lexer": "ipython3",
   "version": "3.7.3"
  }
 },
 "nbformat": 4,
 "nbformat_minor": 2
}
